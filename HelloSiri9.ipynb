{
  "nbformat": 4,
  "nbformat_minor": 0,
  "metadata": {
    "colab": {
      "name": "Copy of HelloSiri.ipynb",
      "provenance": [],
      "include_colab_link": true
    },
    "kernelspec": {
      "name": "python3",
      "display_name": "Python 3"
    }
  },
  "cells": [
    {
      "cell_type": "markdown",
      "metadata": {
        "id": "view-in-github",
        "colab_type": "text"
      },
      "source": [
        "<a href=\"https://colab.research.google.com/github/YhokSiri/DataMining/blob/master/HelloSiri9.ipynb\" target=\"_parent\"><img src=\"https://colab.research.google.com/assets/colab-badge.svg\" alt=\"Open In Colab\"/></a>"
      ]
    },
    {
      "cell_type": "markdown",
      "metadata": {
        "id": "EzoG0vljiy4H",
        "colab_type": "text"
      },
      "source": [
        "#Hello PyThon"
      ]
    },
    {
      "cell_type": "code",
      "metadata": {
        "id": "TWgQdQ9wilNo",
        "colab_type": "code",
        "outputId": "dc9ef1bd-a29d-4719-996b-da6994962e8b",
        "colab": {
          "base_uri": "https://localhost:8080/",
          "height": 34
        }
      },
      "source": [
        "print(\"Hello World\")\n"
      ],
      "execution_count": 0,
      "outputs": [
        {
          "output_type": "stream",
          "text": [
            "Hello World\n"
          ],
          "name": "stdout"
        }
      ]
    },
    {
      "cell_type": "markdown",
      "metadata": {
        "id": "11Culmr5jqNv",
        "colab_type": "text"
      },
      "source": [
        "#Declare Variable\n"
      ]
    },
    {
      "cell_type": "code",
      "metadata": {
        "id": "ubGzIaxQj1eH",
        "colab_type": "code",
        "outputId": "32b1afe9-8973-4112-a28b-84feed51b13e",
        "colab": {
          "base_uri": "https://localhost:8080/",
          "height": 34
        }
      },
      "source": [
        "score = 100\n",
        "name = \"Sirinan\"\n",
        "print(\"Name is \" + name + \" score is \" + str(score))"
      ],
      "execution_count": 0,
      "outputs": [
        {
          "output_type": "stream",
          "text": [
            "Name is Sirinan score is 100\n"
          ],
          "name": "stdout"
        }
      ]
    },
    {
      "cell_type": "markdown",
      "metadata": {
        "id": "eS9HU8oPm8kn",
        "colab_type": "text"
      },
      "source": [
        "#List"
      ]
    },
    {
      "cell_type": "code",
      "metadata": {
        "id": "NyCCHU57nA20",
        "colab_type": "code",
        "outputId": "28aa2383-bbeb-43e4-a13a-09025307804d",
        "colab": {
          "base_uri": "https://localhost:8080/",
          "height": 34
        }
      },
      "source": [
        "mylist = []\n",
        "mylist.append(\"Sirinan\")\n",
        "mylist.append(200)\n",
        "mylist"
      ],
      "execution_count": 0,
      "outputs": [
        {
          "output_type": "execute_result",
          "data": {
            "text/plain": [
              "['Sirinan', 200]"
            ]
          },
          "metadata": {
            "tags": []
          },
          "execution_count": 7
        }
      ]
    },
    {
      "cell_type": "markdown",
      "metadata": {
        "id": "9woXEmaZn3cf",
        "colab_type": "text"
      },
      "source": [
        "#If-Else Python\n"
      ]
    },
    {
      "cell_type": "code",
      "metadata": {
        "id": "50CwBYKTn9KP",
        "colab_type": "code",
        "outputId": "7e84cbe9-246e-4c73-d3d4-78a9efe12c0e",
        "colab": {
          "base_uri": "https://localhost:8080/",
          "height": 34
        }
      },
      "source": [
        "if mylist[1] > 100 :\n",
        "  print(\"Pass\")"
      ],
      "execution_count": 0,
      "outputs": [
        {
          "output_type": "stream",
          "text": [
            "Pass\n"
          ],
          "name": "stdout"
        }
      ]
    },
    {
      "cell_type": "code",
      "metadata": {
        "id": "eyKWRDpApNIn",
        "colab_type": "code",
        "outputId": "3ded1464-db24-43f9-814b-4c3c029bdcca",
        "colab": {
          "base_uri": "https://localhost:8080/",
          "height": 34
        }
      },
      "source": [
        "if mylist[1] > 100 :\n",
        "  name = mylist[0]\n",
        "  score = mylist[1]\n",
        "  print(name+\" \"+str(score))"
      ],
      "execution_count": 0,
      "outputs": [
        {
          "output_type": "stream",
          "text": [
            "Sirinan 200\n"
          ],
          "name": "stdout"
        }
      ]
    },
    {
      "cell_type": "code",
      "metadata": {
        "id": "0BR745x5pjtX",
        "colab_type": "code",
        "outputId": "d38e0e9b-7d45-42da-af38-baaa22cb9422",
        "colab": {
          "base_uri": "https://localhost:8080/",
          "height": 34
        }
      },
      "source": [
        "if mylist[1] > 100 :\n",
        "  name = mylist[0]\n",
        "  score = mylist[1]\n",
        "  print(name+\" \"+str(score))\n",
        "elif mylist[1] > 200 :\n",
        "  print(\"Very Pass\")\n",
        "else :\n",
        "  print(\"Suoer Pass\")"
      ],
      "execution_count": 0,
      "outputs": [
        {
          "output_type": "stream",
          "text": [
            "Sirinan 200\n"
          ],
          "name": "stdout"
        }
      ]
    },
    {
      "cell_type": "code",
      "metadata": {
        "id": "QZarmKiPqjLg",
        "colab_type": "code",
        "outputId": "fe14ca37-4dac-42a2-dea0-f4e0d0819a33",
        "colab": {
          "base_uri": "https://localhost:8080/",
          "height": 34
        }
      },
      "source": [
        "score = 5\n",
        "if score > 50 :\n",
        "  print(\"A\")\n",
        "elif score >20 :\n",
        "  print(\"B\")\n",
        "else :\n",
        "  print(\"C\")\n",
        "  if score == 0:\n",
        "    print(\"F\")"
      ],
      "execution_count": 0,
      "outputs": [
        {
          "output_type": "stream",
          "text": [
            "C\n"
          ],
          "name": "stdout"
        }
      ]
    },
    {
      "cell_type": "markdown",
      "metadata": {
        "id": "u7MyCH3urPg-",
        "colab_type": "text"
      },
      "source": [
        "#Loop"
      ]
    },
    {
      "cell_type": "code",
      "metadata": {
        "id": "z-IGWmFEtvGf",
        "colab_type": "code",
        "outputId": "89fba1c1-7a7f-4f5d-98b7-d12c09c31fde",
        "colab": {
          "base_uri": "https://localhost:8080/",
          "height": 187
        }
      },
      "source": [
        "summation = []\n",
        "for i in range(0,10):\n",
        "  summation.append(i)\n",
        "\n",
        "for i in summation:\n",
        "  print(str(i))"
      ],
      "execution_count": 0,
      "outputs": [
        {
          "output_type": "stream",
          "text": [
            "0\n",
            "1\n",
            "2\n",
            "3\n",
            "4\n",
            "5\n",
            "6\n",
            "7\n",
            "8\n",
            "9\n"
          ],
          "name": "stdout"
        }
      ]
    },
    {
      "cell_type": "code",
      "metadata": {
        "id": "gxQR9azNrR3f",
        "colab_type": "code",
        "outputId": "76da114e-d8cb-4a91-9999-e36071edb929",
        "colab": {
          "base_uri": "https://localhost:8080/",
          "height": 187
        }
      },
      "source": [
        "summation = []\n",
        "a = 0\n",
        "for i in range(0,10):\n",
        "  a= a + 5\n",
        "  summation.append(a)\n",
        "\n",
        "for i in summation:\n",
        "  print(str(i))"
      ],
      "execution_count": 0,
      "outputs": [
        {
          "output_type": "stream",
          "text": [
            "5\n",
            "10\n",
            "15\n",
            "20\n",
            "25\n",
            "30\n",
            "35\n",
            "40\n",
            "45\n",
            "50\n"
          ],
          "name": "stdout"
        }
      ]
    },
    {
      "cell_type": "markdown",
      "metadata": {
        "id": "tljDtn15tlEW",
        "colab_type": "text"
      },
      "source": [
        "#For each"
      ]
    },
    {
      "cell_type": "code",
      "metadata": {
        "id": "agDoI_j_tpAv",
        "colab_type": "code",
        "outputId": "28facc8d-ce6c-42c1-e841-b375f59274a8",
        "colab": {
          "base_uri": "https://localhost:8080/",
          "height": 187
        }
      },
      "source": [
        "for i in summation:\n",
        "  print(str(i))"
      ],
      "execution_count": 0,
      "outputs": [
        {
          "output_type": "stream",
          "text": [
            "5\n",
            "10\n",
            "15\n",
            "20\n",
            "25\n",
            "30\n",
            "35\n",
            "40\n",
            "45\n",
            "50\n"
          ],
          "name": "stdout"
        }
      ]
    },
    {
      "cell_type": "markdown",
      "metadata": {
        "id": "YcWfS-ovveyA",
        "colab_type": "text"
      },
      "source": [
        "#NumPy"
      ]
    },
    {
      "cell_type": "markdown",
      "metadata": {
        "id": "XyfmnkPzwVk2",
        "colab_type": "text"
      },
      "source": [
        "###Lode Numpy"
      ]
    },
    {
      "cell_type": "code",
      "metadata": {
        "id": "l7Y0PlYevhD2",
        "colab_type": "code",
        "colab": {}
      },
      "source": [
        "import numpy as np"
      ],
      "execution_count": 0,
      "outputs": []
    },
    {
      "cell_type": "markdown",
      "metadata": {
        "id": "Ml9vbUErwcX-",
        "colab_type": "text"
      },
      "source": [
        "###Create array"
      ]
    },
    {
      "cell_type": "code",
      "metadata": {
        "id": "NS8plKVYv_lO",
        "colab_type": "code",
        "colab": {}
      },
      "source": [
        "I = [1, 2, 3, 4, 5]\n",
        "np_array = np.array(1)\n",
        "type (np_array)"
      ],
      "execution_count": 0,
      "outputs": []
    },
    {
      "cell_type": "markdown",
      "metadata": {
        "id": "90yXUihuxBqe",
        "colab_type": "text"
      },
      "source": [
        "#Matrix"
      ]
    },
    {
      "cell_type": "markdown",
      "metadata": {
        "id": "SBrJ9gN9wkOW",
        "colab_type": "text"
      },
      "source": [
        "###Create Matrix"
      ]
    },
    {
      "cell_type": "code",
      "metadata": {
        "id": "56ll5B4KwTqm",
        "colab_type": "code",
        "colab": {}
      },
      "source": [
        "np_matrix = np.array([[1,2],[3,4],[5,6]])"
      ],
      "execution_count": 0,
      "outputs": []
    },
    {
      "cell_type": "code",
      "metadata": {
        "id": "Fq4FDU1Dw7gW",
        "colab_type": "code",
        "outputId": "8012ffba-7223-4a43-d235-1f0498b84cdf",
        "colab": {
          "base_uri": "https://localhost:8080/",
          "height": 68
        }
      },
      "source": [
        "np_matrix"
      ],
      "execution_count": 0,
      "outputs": [
        {
          "output_type": "execute_result",
          "data": {
            "text/plain": [
              "array([[1, 2],\n",
              "       [3, 4],\n",
              "       [5, 6]])"
            ]
          },
          "metadata": {
            "tags": []
          },
          "execution_count": 31
        }
      ]
    },
    {
      "cell_type": "markdown",
      "metadata": {
        "id": "VY6PGxUOxI9W",
        "colab_type": "text"
      },
      "source": [
        "###Check matrix size"
      ]
    },
    {
      "cell_type": "code",
      "metadata": {
        "id": "TsZey0T_xQqO",
        "colab_type": "code",
        "outputId": "e92934cc-b363-4c31-e6d2-db69dc5b1ee5",
        "colab": {
          "base_uri": "https://localhost:8080/",
          "height": 34
        }
      },
      "source": [
        "np.size(np_matrix,0)"
      ],
      "execution_count": 0,
      "outputs": [
        {
          "output_type": "execute_result",
          "data": {
            "text/plain": [
              "3"
            ]
          },
          "metadata": {
            "tags": []
          },
          "execution_count": 32
        }
      ]
    },
    {
      "cell_type": "code",
      "metadata": {
        "id": "lAZB46AQxXze",
        "colab_type": "code",
        "outputId": "bb4a52c1-175f-4cbe-f030-e7148dacf378",
        "colab": {
          "base_uri": "https://localhost:8080/",
          "height": 34
        }
      },
      "source": [
        "np.size(np_matrix,1)"
      ],
      "execution_count": 0,
      "outputs": [
        {
          "output_type": "execute_result",
          "data": {
            "text/plain": [
              "2"
            ]
          },
          "metadata": {
            "tags": []
          },
          "execution_count": 33
        }
      ]
    },
    {
      "cell_type": "markdown",
      "metadata": {
        "id": "_89hJ6agyPte",
        "colab_type": "text"
      },
      "source": [
        "###Check matrix Properties"
      ]
    },
    {
      "cell_type": "code",
      "metadata": {
        "id": "uxHRR5OFyXHv",
        "colab_type": "code",
        "outputId": "18cbf798-a7f6-40d2-ae2b-78caafff0789",
        "colab": {
          "base_uri": "https://localhost:8080/",
          "height": 34
        }
      },
      "source": [
        "np_matrix.shape"
      ],
      "execution_count": 0,
      "outputs": [
        {
          "output_type": "execute_result",
          "data": {
            "text/plain": [
              "(3, 2)"
            ]
          },
          "metadata": {
            "tags": []
          },
          "execution_count": 34
        }
      ]
    },
    {
      "cell_type": "code",
      "metadata": {
        "id": "DcCMeJ1bybP-",
        "colab_type": "code",
        "outputId": "8a635fb2-5a9a-4a9b-ab2d-912cf4a45301",
        "colab": {
          "base_uri": "https://localhost:8080/",
          "height": 34
        }
      },
      "source": [
        "np_matrix.ndim"
      ],
      "execution_count": 0,
      "outputs": [
        {
          "output_type": "execute_result",
          "data": {
            "text/plain": [
              "2"
            ]
          },
          "metadata": {
            "tags": []
          },
          "execution_count": 35
        }
      ]
    },
    {
      "cell_type": "code",
      "metadata": {
        "id": "HwPku8bSyiBf",
        "colab_type": "code",
        "outputId": "650ebbca-5ad9-4eff-b7f8-f777c48360dc",
        "colab": {
          "base_uri": "https://localhost:8080/",
          "height": 34
        }
      },
      "source": [
        "np_matrix.size"
      ],
      "execution_count": 0,
      "outputs": [
        {
          "output_type": "execute_result",
          "data": {
            "text/plain": [
              "6"
            ]
          },
          "metadata": {
            "tags": []
          },
          "execution_count": 36
        }
      ]
    },
    {
      "cell_type": "markdown",
      "metadata": {
        "id": "znJ6oBe-ym9n",
        "colab_type": "text"
      },
      "source": [
        "##Create matrix Mix DATA"
      ]
    },
    {
      "cell_type": "code",
      "metadata": {
        "id": "lCMdyvx3yvoF",
        "colab_type": "code",
        "colab": {}
      },
      "source": [
        "np_mix_matrix = np.array([['one',2],['three',4],['five',6]])"
      ],
      "execution_count": 0,
      "outputs": []
    },
    {
      "cell_type": "code",
      "metadata": {
        "id": "pIOhP4sPzHlW",
        "colab_type": "code",
        "outputId": "4a99991f-b8a7-47d3-95a7-e7a3c71a691e",
        "colab": {
          "base_uri": "https://localhost:8080/",
          "height": 68
        }
      },
      "source": [
        "np_mix_matrix"
      ],
      "execution_count": 0,
      "outputs": [
        {
          "output_type": "execute_result",
          "data": {
            "text/plain": [
              "array([['one', '2'],\n",
              "       ['three', '4'],\n",
              "       ['five', '6']], dtype='<U5')"
            ]
          },
          "metadata": {
            "tags": []
          },
          "execution_count": 38
        }
      ]
    },
    {
      "cell_type": "markdown",
      "metadata": {
        "id": "e08CmZGnzMhf",
        "colab_type": "text"
      },
      "source": [
        "#Access Data Element"
      ]
    },
    {
      "cell_type": "code",
      "metadata": {
        "id": "m089MOz0zR03",
        "colab_type": "code",
        "outputId": "f87ca724-48b9-47f3-b7bd-99bbd06991eb",
        "colab": {
          "base_uri": "https://localhost:8080/",
          "height": 34
        }
      },
      "source": [
        "np_mix_matrix[0,1]"
      ],
      "execution_count": 0,
      "outputs": [
        {
          "output_type": "execute_result",
          "data": {
            "text/plain": [
              "'2'"
            ]
          },
          "metadata": {
            "tags": []
          },
          "execution_count": 39
        }
      ]
    },
    {
      "cell_type": "markdown",
      "metadata": {
        "id": "-1EeUYsI0As2",
        "colab_type": "text"
      },
      "source": [
        "###Access all column of matrix"
      ]
    },
    {
      "cell_type": "code",
      "metadata": {
        "id": "hIf-KH_o0IRu",
        "colab_type": "code",
        "outputId": "b38e5a19-6e4f-4950-84b0-29156d888b05",
        "colab": {
          "base_uri": "https://localhost:8080/",
          "height": 34
        }
      },
      "source": [
        "np_mix_matrix[:,0]"
      ],
      "execution_count": 0,
      "outputs": [
        {
          "output_type": "execute_result",
          "data": {
            "text/plain": [
              "array(['one', 'three', 'five'], dtype='<U5')"
            ]
          },
          "metadata": {
            "tags": []
          },
          "execution_count": 40
        }
      ]
    },
    {
      "cell_type": "markdown",
      "metadata": {
        "id": "mow9IEZT0Nfg",
        "colab_type": "text"
      },
      "source": [
        "###Access all row of matrix"
      ]
    },
    {
      "cell_type": "code",
      "metadata": {
        "id": "uBiL8g4o0Rz9",
        "colab_type": "code",
        "outputId": "cbe696be-eaf7-440d-fd1e-82ceb7cfa759",
        "colab": {
          "base_uri": "https://localhost:8080/",
          "height": 34
        }
      },
      "source": [
        "np_mix_matrix[0,]"
      ],
      "execution_count": 0,
      "outputs": [
        {
          "output_type": "execute_result",
          "data": {
            "text/plain": [
              "array(['one', '2'], dtype='<U5')"
            ]
          },
          "metadata": {
            "tags": []
          },
          "execution_count": 42
        }
      ]
    },
    {
      "cell_type": "markdown",
      "metadata": {
        "id": "8NEoq0Fc04SH",
        "colab_type": "text"
      },
      "source": [
        "###Access element from row 0 to row 1"
      ]
    },
    {
      "cell_type": "code",
      "metadata": {
        "id": "NO513Fdh1Jm2",
        "colab_type": "code",
        "outputId": "68ad9a73-db5b-484a-a3a2-474705e1be07",
        "colab": {
          "base_uri": "https://localhost:8080/",
          "height": 51
        }
      },
      "source": [
        "np_mix_matrix[0:2,]"
      ],
      "execution_count": 0,
      "outputs": [
        {
          "output_type": "execute_result",
          "data": {
            "text/plain": [
              "array([['one', '2'],\n",
              "       ['three', '4']], dtype='<U5')"
            ]
          },
          "metadata": {
            "tags": []
          },
          "execution_count": 45
        }
      ]
    },
    {
      "cell_type": "markdown",
      "metadata": {
        "id": "2DVWWzoT1hu-",
        "colab_type": "text"
      },
      "source": [
        "Type casting object"
      ]
    },
    {
      "cell_type": "code",
      "metadata": {
        "id": "F0FG6oPW1mZG",
        "colab_type": "code",
        "outputId": "874b4f6d-662a-481f-a0ee-c3ea806936f1",
        "colab": {
          "base_uri": "https://localhost:8080/",
          "height": 34
        }
      },
      "source": [
        "np.array(np_mix_matrix[:,1], dtype = int)"
      ],
      "execution_count": 0,
      "outputs": [
        {
          "output_type": "execute_result",
          "data": {
            "text/plain": [
              "array([2, 4, 6])"
            ]
          },
          "metadata": {
            "tags": []
          },
          "execution_count": 46
        }
      ]
    },
    {
      "cell_type": "markdown",
      "metadata": {
        "id": "o4WjsckN10OO",
        "colab_type": "text"
      },
      "source": [
        "##Create matrix of zeros"
      ]
    },
    {
      "cell_type": "code",
      "metadata": {
        "id": "YtZ29EK-14ru",
        "colab_type": "code",
        "outputId": "6a652887-ead4-4d96-cd44-2e59dd23dfda",
        "colab": {
          "base_uri": "https://localhost:8080/",
          "height": 51
        }
      },
      "source": [
        "np.zeros([2,3])"
      ],
      "execution_count": 0,
      "outputs": [
        {
          "output_type": "execute_result",
          "data": {
            "text/plain": [
              "array([[0., 0., 0.],\n",
              "       [0., 0., 0.]])"
            ]
          },
          "metadata": {
            "tags": []
          },
          "execution_count": 48
        }
      ]
    },
    {
      "cell_type": "markdown",
      "metadata": {
        "id": "powT5LYU2Gvo",
        "colab_type": "text"
      },
      "source": [
        "##Create matrix of ones"
      ]
    },
    {
      "cell_type": "code",
      "metadata": {
        "id": "rEha5QBw2L4F",
        "colab_type": "code",
        "outputId": "c30edc3c-5821-48d1-8052-c7016182e9ba",
        "colab": {
          "base_uri": "https://localhost:8080/",
          "height": 102
        }
      },
      "source": [
        "np.ones([5,5])"
      ],
      "execution_count": 0,
      "outputs": [
        {
          "output_type": "execute_result",
          "data": {
            "text/plain": [
              "array([[1., 1., 1., 1., 1.],\n",
              "       [1., 1., 1., 1., 1.],\n",
              "       [1., 1., 1., 1., 1.],\n",
              "       [1., 1., 1., 1., 1.],\n",
              "       [1., 1., 1., 1., 1.]])"
            ]
          },
          "metadata": {
            "tags": []
          },
          "execution_count": 49
        }
      ]
    },
    {
      "cell_type": "markdown",
      "metadata": {
        "id": "72kI8fDJ2XSm",
        "colab_type": "text"
      },
      "source": [
        "##create my matrix"
      ]
    },
    {
      "cell_type": "code",
      "metadata": {
        "id": "U_DV9p9_2Zze",
        "colab_type": "code",
        "outputId": "8620a9ae-68fe-4007-ae73-ebda43473b69",
        "colab": {
          "base_uri": "https://localhost:8080/",
          "height": 102
        }
      },
      "source": [
        "np.eye(5)"
      ],
      "execution_count": 0,
      "outputs": [
        {
          "output_type": "execute_result",
          "data": {
            "text/plain": [
              "array([[1., 0., 0., 0., 0.],\n",
              "       [0., 1., 0., 0., 0.],\n",
              "       [0., 0., 1., 0., 0.],\n",
              "       [0., 0., 0., 1., 0.],\n",
              "       [0., 0., 0., 0., 1.]])"
            ]
          },
          "metadata": {
            "tags": []
          },
          "execution_count": 50
        }
      ]
    },
    {
      "cell_type": "markdown",
      "metadata": {
        "id": "m50mRlNY2geS",
        "colab_type": "text"
      },
      "source": [
        "###Create Empty matrix"
      ]
    },
    {
      "cell_type": "code",
      "metadata": {
        "id": "_XTqH7PF2nsQ",
        "colab_type": "code",
        "outputId": "9ba38aae-83d7-47fa-f2b5-0b294a18365a",
        "colab": {
          "base_uri": "https://localhost:8080/",
          "height": 102
        }
      },
      "source": [
        "np.empty([5,5])"
      ],
      "execution_count": 0,
      "outputs": [
        {
          "output_type": "execute_result",
          "data": {
            "text/plain": [
              "array([[1., 0., 0., 0., 0.],\n",
              "       [0., 1., 0., 0., 0.],\n",
              "       [0., 0., 1., 0., 0.],\n",
              "       [0., 0., 0., 1., 0.],\n",
              "       [0., 0., 0., 0., 1.]])"
            ]
          },
          "metadata": {
            "tags": []
          },
          "execution_count": 52
        }
      ]
    },
    {
      "cell_type": "markdown",
      "metadata": {
        "id": "YJmpVnOC3T14",
        "colab_type": "text"
      },
      "source": [
        "#Random matrix of size"
      ]
    },
    {
      "cell_type": "code",
      "metadata": {
        "id": "Kr7rOOXd4Q39",
        "colab_type": "code",
        "outputId": "155b534c-22e6-42b4-fb9d-09800b20458c",
        "colab": {
          "base_uri": "https://localhost:8080/",
          "height": 102
        }
      },
      "source": [
        "np.random.rand(5,5)"
      ],
      "execution_count": 0,
      "outputs": [
        {
          "output_type": "execute_result",
          "data": {
            "text/plain": [
              "array([[0.19963696, 0.04307019, 0.70741518, 0.28757058, 0.51762783],\n",
              "       [0.0062346 , 0.32447822, 0.25032038, 0.6434047 , 0.72781686],\n",
              "       [0.53716399, 0.13031075, 0.3380758 , 0.58794495, 0.45908036],\n",
              "       [0.82837107, 0.98930126, 0.37896976, 0.23403865, 0.80282681],\n",
              "       [0.07558393, 0.16956911, 0.39352512, 0.58873565, 0.55194386]])"
            ]
          },
          "metadata": {
            "tags": []
          },
          "execution_count": 57
        }
      ]
    },
    {
      "cell_type": "code",
      "metadata": {
        "id": "E8jkyeax3ZLB",
        "colab_type": "code",
        "outputId": "32d51181-0943-4e49-d65c-a4715de291e3",
        "colab": {
          "base_uri": "https://localhost:8080/",
          "height": 68
        }
      },
      "source": [
        "np.random.randint(5,size = (3,3))"
      ],
      "execution_count": 0,
      "outputs": [
        {
          "output_type": "execute_result",
          "data": {
            "text/plain": [
              "array([[2, 4, 0],\n",
              "       [0, 3, 3],\n",
              "       [2, 1, 1]])"
            ]
          },
          "metadata": {
            "tags": []
          },
          "execution_count": 56
        }
      ]
    },
    {
      "cell_type": "markdown",
      "metadata": {
        "id": "NzeDYURU4m-_",
        "colab_type": "text"
      },
      "source": [
        "##Random Distribution"
      ]
    },
    {
      "cell_type": "code",
      "metadata": {
        "id": "bee6Xq_f4vIO",
        "colab_type": "code",
        "outputId": "8c400003-7bec-413e-e618-2dc6c0140ff5",
        "colab": {
          "base_uri": "https://localhost:8080/",
          "height": 214
        }
      },
      "source": [
        "import matplotlib.pyplot as plt\n",
        "fig, axes = plt.subplots(1,2,figsize=(8,3))\n",
        "axes[0].hist(np.random.rand(1000))\n",
        "axes[1].hist(np.random.randn(1000))\n",
        "plt.show()"
      ],
      "execution_count": 0,
      "outputs": [
        {
          "output_type": "display_data",
          "data": {
            "image/png": "[encoded data removed]",
            "text/plain": [
              "<Figure size 576x216 with 2 Axes>"
            ]
          },
          "metadata": {
            "tags": []
          }
        }
      ]
    },
    {
      "cell_type": "markdown",
      "metadata": {
        "id": "8v8NPLgF5oPY",
        "colab_type": "text"
      },
      "source": [
        "##Randomly Choose 3 number"
      ]
    },
    {
      "cell_type": "code",
      "metadata": {
        "id": "olPJLsN-5tJX",
        "colab_type": "code",
        "outputId": "63bdab15-a405-48f3-c3c9-e1acec5b3c8d",
        "colab": {
          "base_uri": "https://localhost:8080/",
          "height": 34
        }
      },
      "source": [
        "np.random.choice(5,3,replace = False)"
      ],
      "execution_count": 0,
      "outputs": [
        {
          "output_type": "execute_result",
          "data": {
            "text/plain": [
              "array([4, 1, 0])"
            ]
          },
          "metadata": {
            "tags": []
          },
          "execution_count": 82
        }
      ]
    },
    {
      "cell_type": "markdown",
      "metadata": {
        "id": "4Y6mWZ_O5503",
        "colab_type": "text"
      },
      "source": [
        "###Randomly Choose 3 number New matrix"
      ]
    },
    {
      "cell_type": "code",
      "metadata": {
        "id": "ZXPElKON6BuR",
        "colab_type": "code",
        "outputId": "0dee85ff-5742-4515-c8d2-f45e146d9e7c",
        "colab": {
          "base_uri": "https://localhost:8080/",
          "height": 68
        }
      },
      "source": [
        "np_matrix = np.random.rand(5,5)\n",
        "idx_choose = np.random.choice(5,3,replace = False)\n",
        "np_matrix_choose = np_matrix[idx_choose,:]\n",
        "np_matrix_choose"
      ],
      "execution_count": 0,
      "outputs": [
        {
          "output_type": "execute_result",
          "data": {
            "text/plain": [
              "array([[0.49430474, 0.52488892, 0.74951644, 0.4305252 , 0.65698373],\n",
              "       [0.07591454, 0.65647966, 0.29785052, 0.4861818 , 0.78784676],\n",
              "       [0.70177738, 0.47340678, 0.0523282 , 0.63988896, 0.77005737]])"
            ]
          },
          "metadata": {
            "tags": []
          },
          "execution_count": 29
        }
      ]
    },
    {
      "cell_type": "markdown",
      "metadata": {
        "id": "dkBIU0L86-1W",
        "colab_type": "text"
      },
      "source": [
        "#EX1 LAB8"
      ]
    },
    {
      "cell_type": "code",
      "metadata": {
        "id": "a42x38yG7C6V",
        "colab_type": "code",
        "outputId": "ef88d276-f66f-41d7-a04d-4cac8df92d1d",
        "colab": {
          "base_uri": "https://localhost:8080/",
          "height": 187
        }
      },
      "source": [
        "a = np.random.rand(10,5)\n",
        "a\n"
      ],
      "execution_count": 0,
      "outputs": [
        {
          "output_type": "execute_result",
          "data": {
            "text/plain": [
              "array([[0.88120647, 0.36060549, 0.44363561, 0.60363161, 0.95222431],\n",
              "       [0.58283078, 0.32932222, 0.49416376, 0.09459394, 0.10096686],\n",
              "       [0.09847129, 0.59219207, 0.07561872, 0.86999638, 0.27501224],\n",
              "       [0.30554852, 0.61977453, 0.83547117, 0.96936374, 0.40413713],\n",
              "       [0.61274057, 0.47390669, 0.37606534, 0.9857839 , 0.37575715],\n",
              "       [0.36527435, 0.45320163, 0.94487403, 0.56304569, 0.95114191],\n",
              "       [0.46574043, 0.72427988, 0.82453484, 0.02484573, 0.20309599],\n",
              "       [0.92465533, 0.48335546, 0.31015212, 0.95799427, 0.90039343],\n",
              "       [0.08908531, 0.67291188, 0.74163398, 0.15436072, 0.26771631],\n",
              "       [0.00887639, 0.36446218, 0.74322253, 0.33567646, 0.2678281 ]])"
            ]
          },
          "metadata": {
            "tags": []
          },
          "execution_count": 137
        }
      ]
    },
    {
      "cell_type": "code",
      "metadata": {
        "id": "vzcblnpl8qze",
        "colab_type": "code",
        "outputId": "31a7dc35-cfde-49e2-ac86-96cebae89fab",
        "colab": {
          "base_uri": "https://localhost:8080/",
          "height": 34
        }
      },
      "source": [
        "b = np.random.randint(2,size = 10)\n",
        "b"
      ],
      "execution_count": 0,
      "outputs": [
        {
          "output_type": "execute_result",
          "data": {
            "text/plain": [
              "array([1, 0, 0, 0, 1, 1, 1, 0, 1, 0])"
            ]
          },
          "metadata": {
            "tags": []
          },
          "execution_count": 140
        }
      ]
    },
    {
      "cell_type": "markdown",
      "metadata": {
        "id": "rZn1Yz7jkQ5v",
        "colab_type": "text"
      },
      "source": [
        ""
      ]
    },
    {
      "cell_type": "code",
      "metadata": {
        "id": "W9dEI35C-MkO",
        "colab_type": "code",
        "outputId": "45b7f4f4-5770-43ff-ae5f-51a83812888a",
        "colab": {
          "base_uri": "https://localhost:8080/",
          "height": 187
        }
      },
      "source": [
        "a[:,4] = b\n",
        "a"
      ],
      "execution_count": 0,
      "outputs": [
        {
          "output_type": "execute_result",
          "data": {
            "text/plain": [
              "array([[0.88120647, 0.36060549, 0.44363561, 0.60363161, 1.        ],\n",
              "       [0.58283078, 0.32932222, 0.49416376, 0.09459394, 0.        ],\n",
              "       [0.09847129, 0.59219207, 0.07561872, 0.86999638, 0.        ],\n",
              "       [0.30554852, 0.61977453, 0.83547117, 0.96936374, 0.        ],\n",
              "       [0.61274057, 0.47390669, 0.37606534, 0.9857839 , 1.        ],\n",
              "       [0.36527435, 0.45320163, 0.94487403, 0.56304569, 1.        ],\n",
              "       [0.46574043, 0.72427988, 0.82453484, 0.02484573, 1.        ],\n",
              "       [0.92465533, 0.48335546, 0.31015212, 0.95799427, 0.        ],\n",
              "       [0.08908531, 0.67291188, 0.74163398, 0.15436072, 1.        ],\n",
              "       [0.00887639, 0.36446218, 0.74322253, 0.33567646, 0.        ]])"
            ]
          },
          "metadata": {
            "tags": []
          },
          "execution_count": 141
        }
      ]
    },
    {
      "cell_type": "markdown",
      "metadata": {
        "id": "Y9W0bPWP_9zO",
        "colab_type": "text"
      },
      "source": [
        "#Delete raw"
      ]
    },
    {
      "cell_type": "code",
      "metadata": {
        "id": "4sPojeUdAFDd",
        "colab_type": "code",
        "outputId": "9d43cf80-665a-45a3-fa4f-edd625cdf21f",
        "colab": {
          "base_uri": "https://localhost:8080/",
          "height": 102
        }
      },
      "source": [
        "np_matrix = np.random.randint(11,size = (5,5))\n",
        "np_matrix\n"
      ],
      "execution_count": 0,
      "outputs": [
        {
          "output_type": "execute_result",
          "data": {
            "text/plain": [
              "array([[ 3,  0,  0,  3,  0],\n",
              "       [ 5,  6, 10,  9,  9],\n",
              "       [10,  8,  4,  9,  9],\n",
              "       [10,  7,  4,  3,  3],\n",
              "       [ 1,  9,  2,  9,  5]])"
            ]
          },
          "metadata": {
            "tags": []
          },
          "execution_count": 109
        }
      ]
    },
    {
      "cell_type": "markdown",
      "metadata": {
        "id": "oJXju2lUAQRx",
        "colab_type": "text"
      },
      "source": [
        "###Delete"
      ]
    },
    {
      "cell_type": "code",
      "metadata": {
        "id": "Bjtwf7CbATJC",
        "colab_type": "code",
        "outputId": "944f9b8f-7a10-49b4-c27e-232151b9ced4",
        "colab": {
          "base_uri": "https://localhost:8080/",
          "height": 85
        }
      },
      "source": [
        "np_matrix = np.delete(np_matrix,[1],0)\n",
        "np_matrix"
      ],
      "execution_count": 0,
      "outputs": [
        {
          "output_type": "execute_result",
          "data": {
            "text/plain": [
              "array([[ 3,  0,  0,  3,  0],\n",
              "       [10,  8,  4,  9,  9],\n",
              "       [10,  7,  4,  3,  3],\n",
              "       [ 1,  9,  2,  9,  5]])"
            ]
          },
          "metadata": {
            "tags": []
          },
          "execution_count": 110
        }
      ]
    },
    {
      "cell_type": "markdown",
      "metadata": {
        "id": "8Gkhvs1tBOkD",
        "colab_type": "text"
      },
      "source": [
        "##Fide Index"
      ]
    },
    {
      "cell_type": "code",
      "metadata": {
        "id": "vHxjHMvSBTDw",
        "colab_type": "code",
        "outputId": "8b5c7b19-dafc-450f-b2d6-2f9bad18f71d",
        "colab": {
          "base_uri": "https://localhost:8080/",
          "height": 102
        }
      },
      "source": [
        "np_matrix = np.random.randint(3,size = (5,5))\n",
        "np_matrix"
      ],
      "execution_count": 0,
      "outputs": [
        {
          "output_type": "execute_result",
          "data": {
            "text/plain": [
              "array([[0, 0, 1, 0, 1],\n",
              "       [1, 0, 2, 2, 1],\n",
              "       [1, 2, 2, 0, 0],\n",
              "       [1, 1, 0, 2, 1],\n",
              "       [0, 1, 2, 0, 0]])"
            ]
          },
          "metadata": {
            "tags": []
          },
          "execution_count": 120
        }
      ]
    },
    {
      "cell_type": "code",
      "metadata": {
        "id": "oCTA4xBIBYjd",
        "colab_type": "code",
        "outputId": "565801bc-42ed-4fa4-a21f-4e7ee86de5c2",
        "colab": {
          "base_uri": "https://localhost:8080/",
          "height": 34
        }
      },
      "source": [
        "result = np.where(np_matrix == 2)\n",
        "result"
      ],
      "execution_count": 0,
      "outputs": [
        {
          "output_type": "execute_result",
          "data": {
            "text/plain": [
              "(array([1, 1, 2, 2, 3, 4]), array([2, 3, 1, 2, 3, 2]))"
            ]
          },
          "metadata": {
            "tags": []
          },
          "execution_count": 121
        }
      ]
    },
    {
      "cell_type": "code",
      "metadata": {
        "id": "GHPOI4RsCNoP",
        "colab_type": "code",
        "outputId": "116b250a-e001-4917-8e2b-ddeb7ce9ffc5",
        "colab": {
          "base_uri": "https://localhost:8080/",
          "height": 102
        }
      },
      "source": [
        "result = (np_matrix == 2)\n",
        "result"
      ],
      "execution_count": 0,
      "outputs": [
        {
          "output_type": "execute_result",
          "data": {
            "text/plain": [
              "array([[False, False, False, False, False],\n",
              "       [False, False,  True,  True, False],\n",
              "       [False,  True,  True, False, False],\n",
              "       [False, False, False,  True, False],\n",
              "       [False, False,  True, False, False]])"
            ]
          },
          "metadata": {
            "tags": []
          },
          "execution_count": 122
        }
      ]
    },
    {
      "cell_type": "code",
      "metadata": {
        "id": "2TLSLTb2C7YF",
        "colab_type": "code",
        "outputId": "e2a62eb3-f83c-497a-e7ae-195811b13b69",
        "colab": {
          "base_uri": "https://localhost:8080/",
          "height": 102
        }
      },
      "source": [
        "np_matrix[result] = 99\n",
        "np_matrix"
      ],
      "execution_count": 0,
      "outputs": [
        {
          "output_type": "execute_result",
          "data": {
            "text/plain": [
              "array([[ 0,  0,  1,  0,  1],\n",
              "       [ 1,  0, 99, 99,  1],\n",
              "       [ 1, 99, 99,  0,  0],\n",
              "       [ 1,  1,  0, 99,  1],\n",
              "       [ 0,  1, 99,  0,  0]])"
            ]
          },
          "metadata": {
            "tags": []
          },
          "execution_count": 124
        }
      ]
    },
    {
      "cell_type": "markdown",
      "metadata": {
        "id": "L7QTY_cXDkYC",
        "colab_type": "text"
      },
      "source": [
        "#EX2 LAB8"
      ]
    },
    {
      "cell_type": "code",
      "metadata": {
        "id": "D64TlAYLDlPl",
        "colab_type": "code",
        "outputId": "f24bfdaa-9438-4c1c-f0e6-cf5e76643338",
        "colab": {
          "base_uri": "https://localhost:8080/",
          "height": 187
        }
      },
      "source": [
        "a = np.random.rand(10,5)\n",
        "a"
      ],
      "execution_count": 0,
      "outputs": [
        {
          "output_type": "execute_result",
          "data": {
            "text/plain": [
              "array([[0.78873213, 0.28784819, 0.8060008 , 0.64262464, 0.78137755],\n",
              "       [0.20980428, 0.0264983 , 0.37232392, 0.10938356, 0.49419782],\n",
              "       [0.01804957, 0.16955246, 0.48625967, 0.77190578, 0.12563005],\n",
              "       [0.70307285, 0.76017989, 0.15144423, 0.606423  , 0.84403651],\n",
              "       [0.1022321 , 0.9369403 , 0.02217591, 0.28167383, 0.00741933],\n",
              "       [0.11895859, 0.39570055, 0.26874924, 0.21492181, 0.75649763],\n",
              "       [0.36201223, 0.83437178, 0.10988563, 0.49121248, 0.45420608],\n",
              "       [0.62371471, 0.31972845, 0.00147218, 0.61968114, 0.91215578],\n",
              "       [0.71578262, 0.32995846, 0.63553535, 0.45955991, 0.06591781],\n",
              "       [0.7356851 , 0.65895189, 0.59741685, 0.3917711 , 0.90605038]])"
            ]
          },
          "metadata": {
            "tags": []
          },
          "execution_count": 142
        }
      ]
    },
    {
      "cell_type": "code",
      "metadata": {
        "id": "ObRsBjS5Du-l",
        "colab_type": "code",
        "outputId": "4ce495b1-95f5-462a-f447-87eba41bc30f",
        "colab": {
          "base_uri": "https://localhost:8080/",
          "height": 34
        }
      },
      "source": [
        "b = np.random.randint(3,size = 10)\n",
        "b"
      ],
      "execution_count": 0,
      "outputs": [
        {
          "output_type": "execute_result",
          "data": {
            "text/plain": [
              "array([2, 2, 2, 0, 2, 0, 0, 2, 0, 2])"
            ]
          },
          "metadata": {
            "tags": []
          },
          "execution_count": 143
        }
      ]
    },
    {
      "cell_type": "code",
      "metadata": {
        "id": "BViPfrPOEX8Z",
        "colab_type": "code",
        "outputId": "ba43977f-014f-40c2-b9cd-c7bcd955fe4a",
        "colab": {
          "base_uri": "https://localhost:8080/",
          "height": 34
        }
      },
      "source": [
        "result = np.where(b == 2)\n",
        "result\n"
      ],
      "execution_count": 0,
      "outputs": [
        {
          "output_type": "execute_result",
          "data": {
            "text/plain": [
              "(array([0, 1, 2, 4, 7, 9]),)"
            ]
          },
          "metadata": {
            "tags": []
          },
          "execution_count": 144
        }
      ]
    },
    {
      "cell_type": "code",
      "metadata": {
        "id": "trBSHbO7FUNf",
        "colab_type": "code",
        "outputId": "7a0d9617-ea18-40fe-ee61-8b03d199bf98",
        "colab": {
          "base_uri": "https://localhost:8080/",
          "height": 119
        }
      },
      "source": [
        "np_matrix = a[result]\n",
        "np_matrix"
      ],
      "execution_count": 0,
      "outputs": [
        {
          "output_type": "execute_result",
          "data": {
            "text/plain": [
              "array([[0.78873213, 0.28784819, 0.8060008 , 0.64262464, 0.78137755],\n",
              "       [0.20980428, 0.0264983 , 0.37232392, 0.10938356, 0.49419782],\n",
              "       [0.01804957, 0.16955246, 0.48625967, 0.77190578, 0.12563005],\n",
              "       [0.1022321 , 0.9369403 , 0.02217591, 0.28167383, 0.00741933],\n",
              "       [0.62371471, 0.31972845, 0.00147218, 0.61968114, 0.91215578],\n",
              "       [0.7356851 , 0.65895189, 0.59741685, 0.3917711 , 0.90605038]])"
            ]
          },
          "metadata": {
            "tags": []
          },
          "execution_count": 145
        }
      ]
    },
    {
      "cell_type": "markdown",
      "metadata": {
        "id": "Pm13X9FNkUKF",
        "colab_type": "text"
      },
      "source": [
        "#Week9"
      ]
    },
    {
      "cell_type": "code",
      "metadata": {
        "id": "o9yzXmKZlzt1",
        "colab_type": "code",
        "colab": {}
      },
      "source": [
        "import numpy as np"
      ],
      "execution_count": 0,
      "outputs": []
    },
    {
      "cell_type": "markdown",
      "metadata": {
        "id": "_Wq_A4M6mM81",
        "colab_type": "text"
      },
      "source": [
        "##Max Min\n"
      ]
    },
    {
      "cell_type": "markdown",
      "metadata": {
        "id": "76r3ECLEmFcm",
        "colab_type": "text"
      },
      "source": [
        "##Arange"
      ]
    },
    {
      "cell_type": "code",
      "metadata": {
        "id": "Huv91zKdkb4l",
        "colab_type": "code",
        "outputId": "03bd6480-d224-45e6-97fa-a5fb28259ed3",
        "colab": {
          "base_uri": "https://localhost:8080/",
          "height": 34
        }
      },
      "source": [
        "np.arange(5,10,2)"
      ],
      "execution_count": 0,
      "outputs": [
        {
          "output_type": "execute_result",
          "data": {
            "text/plain": [
              "array([5, 7, 9])"
            ]
          },
          "metadata": {
            "tags": []
          },
          "execution_count": 13
        }
      ]
    },
    {
      "cell_type": "code",
      "metadata": {
        "id": "_PgKOaWAksU1",
        "colab_type": "code",
        "outputId": "4bfb71ce-31af-431f-9497-fa2069814ab4",
        "colab": {
          "base_uri": "https://localhost:8080/",
          "height": 51
        }
      },
      "source": [
        "np.linspace(5,10,10)"
      ],
      "execution_count": 0,
      "outputs": [
        {
          "output_type": "execute_result",
          "data": {
            "text/plain": [
              "array([ 5.        ,  5.55555556,  6.11111111,  6.66666667,  7.22222222,\n",
              "        7.77777778,  8.33333333,  8.88888889,  9.44444444, 10.        ])"
            ]
          },
          "metadata": {
            "tags": []
          },
          "execution_count": 14
        }
      ]
    },
    {
      "cell_type": "markdown",
      "metadata": {
        "id": "8N895LHFlNl-",
        "colab_type": "text"
      },
      "source": [
        "#EX.3\n"
      ]
    },
    {
      "cell_type": "code",
      "metadata": {
        "id": "a1pSyCQblP32",
        "colab_type": "code",
        "outputId": "a36e046f-dac2-4df5-d772-c3cc72442434",
        "colab": {
          "base_uri": "https://localhost:8080/",
          "height": 286
        }
      },
      "source": [
        "import matplotlib.pyplot as plt\n",
        "x = np.arange(0,12,0.01)\n",
        "y = np.cos(x)\n",
        "plt.plot(x,y)"
      ],
      "execution_count": 0,
      "outputs": [
        {
          "output_type": "execute_result",
          "data": {
            "text/plain": [
              "[<matplotlib.lines.Line2D at 0x7f9e13fe9320>]"
            ]
          },
          "metadata": {
            "tags": []
          },
          "execution_count": 25
        },
        {
          "output_type": "display_data",
          "data": {
            "image/png": "[encoded data removed]",
            "text/plain": [
              "<Figure size 432x288 with 1 Axes>"
            ]
          },
          "metadata": {
            "tags": []
          }
        }
      ]
    },
    {
      "cell_type": "markdown",
      "metadata": {
        "id": "WIdQ5CdvpL_N",
        "colab_type": "text"
      },
      "source": [
        "##Reshape"
      ]
    },
    {
      "cell_type": "code",
      "metadata": {
        "id": "2v5Ns9LapRX9",
        "colab_type": "code",
        "outputId": "90b963b2-c764-48ba-b80a-301063fa8d6d",
        "colab": {
          "base_uri": "https://localhost:8080/",
          "height": 34
        }
      },
      "source": [
        "np_matrix.shape"
      ],
      "execution_count": 0,
      "outputs": [
        {
          "output_type": "execute_result",
          "data": {
            "text/plain": [
              "(5, 5)"
            ]
          },
          "metadata": {
            "tags": []
          },
          "execution_count": 30
        }
      ]
    },
    {
      "cell_type": "code",
      "metadata": {
        "id": "HaQ9DaNapuNw",
        "colab_type": "code",
        "outputId": "8005d5fc-26c4-43b2-8311-d3389bf3063c",
        "colab": {
          "base_uri": "https://localhost:8080/",
          "height": 102
        }
      },
      "source": [
        "np_matrix.reshape(1,25)"
      ],
      "execution_count": 0,
      "outputs": [
        {
          "output_type": "execute_result",
          "data": {
            "text/plain": [
              "array([[0.46076057, 0.53142165, 0.29906105, 0.19688572, 0.52030625,\n",
              "        0.49430474, 0.52488892, 0.74951644, 0.4305252 , 0.65698373,\n",
              "        0.70177738, 0.47340678, 0.0523282 , 0.63988896, 0.77005737,\n",
              "        0.49863321, 0.03009288, 0.45326837, 0.77631442, 0.60889384,\n",
              "        0.07591454, 0.65647966, 0.29785052, 0.4861818 , 0.78784676]])"
            ]
          },
          "metadata": {
            "tags": []
          },
          "execution_count": 32
        }
      ]
    },
    {
      "cell_type": "code",
      "metadata": {
        "id": "ZCj8c1TDoHwp",
        "colab_type": "code",
        "colab": {}
      },
      "source": [
        ""
      ],
      "execution_count": 0,
      "outputs": []
    },
    {
      "cell_type": "markdown",
      "metadata": {
        "id": "XaHQNPSyqESu",
        "colab_type": "text"
      },
      "source": [
        "#EX4\n"
      ]
    },
    {
      "cell_type": "code",
      "metadata": {
        "id": "sPWtR0odqHIn",
        "colab_type": "code",
        "outputId": "88464681-4d7f-4cd8-f037-c9adb639dd91",
        "colab": {
          "base_uri": "https://localhost:8080/",
          "height": 102
        }
      },
      "source": [
        "np_test = np.arange(25).reshape(5,5)\n",
        "np_test\n"
      ],
      "execution_count": 0,
      "outputs": [
        {
          "output_type": "execute_result",
          "data": {
            "text/plain": [
              "array([[ 0,  1,  2,  3,  4],\n",
              "       [ 5,  6,  7,  8,  9],\n",
              "       [10, 11, 12, 13, 14],\n",
              "       [15, 16, 17, 18, 19],\n",
              "       [20, 21, 22, 23, 24]])"
            ]
          },
          "metadata": {
            "tags": []
          },
          "execution_count": 122
        }
      ]
    },
    {
      "cell_type": "code",
      "metadata": {
        "id": "CzHEbzZO_LES",
        "colab_type": "code",
        "outputId": "636287f6-271c-4dca-a63a-0ccd25bbf510",
        "colab": {
          "base_uri": "https://localhost:8080/",
          "height": 34
        }
      },
      "source": [
        "np_test = np.arange(25).reshape(5,5)\n",
        "np_test[np_test%3==0]"
      ],
      "execution_count": 0,
      "outputs": [
        {
          "output_type": "execute_result",
          "data": {
            "text/plain": [
              "array([ 0,  3,  6,  9, 12, 15, 18, 21, 24])"
            ]
          },
          "metadata": {
            "tags": []
          },
          "execution_count": 130
        }
      ]
    },
    {
      "cell_type": "markdown",
      "metadata": {
        "id": "lXrqyqhnwf-n",
        "colab_type": "text"
      },
      "source": [
        "#Upload File Titanic"
      ]
    },
    {
      "cell_type": "code",
      "metadata": {
        "id": "iX-Y4BJRwkZ3",
        "colab_type": "code",
        "outputId": "1768aa2e-3fbd-475b-a50b-409ac3c2d9e0",
        "colab": {
          "base_uri": "https://localhost:8080/",
          "height": 34
        }
      },
      "source": [
        "import numpy as np\n",
        "titanic = np.genfromtxt(\"https://raw.githubusercontent.com/YhokSiri/DataMining/master/TitaCSV.csv\",delimiter = \";\" , dtype = str , missing_values = None )\n",
        "titanic.shape"
      ],
      "execution_count": 0,
      "outputs": [
        {
          "output_type": "execute_result",
          "data": {
            "text/plain": [
              "(1309, 12)"
            ]
          },
          "metadata": {
            "tags": []
          },
          "execution_count": 219
        }
      ]
    },
    {
      "cell_type": "code",
      "metadata": {
        "id": "ZROJW6iN55oc",
        "colab_type": "code",
        "outputId": "69e21b73-f065-4d40-d462-aa07648d2166",
        "colab": {
          "base_uri": "https://localhost:8080/",
          "height": 238
        }
      },
      "source": [
        "titanic"
      ],
      "execution_count": 0,
      "outputs": [
        {
          "output_type": "execute_result",
          "data": {
            "text/plain": [
              "array([['First', 'Allen, Miss. Elisabeth Walton', 'Female', ...,\n",
              "        'Southampton', '2', 'Yes'],\n",
              "       ['First', 'Allison, Master. Hudson Trevor', 'Male', ...,\n",
              "        'Southampton', '11', 'Yes'],\n",
              "       ['First', 'Allison, Miss. Helen Loraine', 'Female', ...,\n",
              "        'Southampton', '', 'No'],\n",
              "       ...,\n",
              "       ['Third', 'Zakarian, Mr. Mapriededer', 'Male', ..., 'Cherbourg',\n",
              "        '', 'No'],\n",
              "       ['Third', 'Zakarian, Mr. Ortin', 'Male', ..., 'Cherbourg', '',\n",
              "        'No'],\n",
              "       ['Third', 'Zimmerman, Mr. Leo', 'Male', ..., 'Southampton', '',\n",
              "        'No']], dtype='<U82')"
            ]
          },
          "metadata": {
            "tags": []
          },
          "execution_count": 220
        }
      ]
    },
    {
      "cell_type": "code",
      "metadata": {
        "id": "XxyYk37h6BrQ",
        "colab_type": "code",
        "outputId": "3fe3c76a-56e5-4fbe-c3e1-62a94f78f172",
        "colab": {
          "base_uri": "https://localhost:8080/",
          "height": 68
        }
      },
      "source": [
        "titanic[0,:]"
      ],
      "execution_count": 0,
      "outputs": [
        {
          "output_type": "execute_result",
          "data": {
            "text/plain": [
              "array(['First', 'Allen, Miss. Elisabeth Walton', 'Female', '29.0', '0',\n",
              "       '0', '24160', '211.3375', 'B5', 'Southampton', '2', 'Yes'],\n",
              "      dtype='<U82')"
            ]
          },
          "metadata": {
            "tags": []
          },
          "execution_count": 221
        }
      ]
    },
    {
      "cell_type": "markdown",
      "metadata": {
        "id": "lgaW2YuM5Krs",
        "colab_type": "text"
      },
      "source": [
        "##Remove"
      ]
    },
    {
      "cell_type": "code",
      "metadata": {
        "id": "Jp6vdx2g5OG1",
        "colab_type": "code",
        "colab": {}
      },
      "source": [
        "titanic = np.delete(titanic,[1,6,7,8,9,10],1)"
      ],
      "execution_count": 0,
      "outputs": []
    },
    {
      "cell_type": "code",
      "metadata": {
        "id": "zZMe1x-SND3c",
        "colab_type": "code",
        "outputId": "12d78190-0114-4042-ef19-314c434ffd96",
        "colab": {
          "base_uri": "https://localhost:8080/",
          "height": 34
        }
      },
      "source": [
        "titanic[0,:]"
      ],
      "execution_count": 0,
      "outputs": [
        {
          "output_type": "execute_result",
          "data": {
            "text/plain": [
              "array(['First', 'Female', '29.0', '0', '0', 'Yes'], dtype='<U82')"
            ]
          },
          "metadata": {
            "tags": []
          },
          "execution_count": 223
        }
      ]
    },
    {
      "cell_type": "code",
      "metadata": {
        "id": "i7AnS7-3PPCS",
        "colab_type": "code",
        "outputId": "23fcdcc4-6455-44ba-d30c-b4d75fd174c8",
        "colab": {
          "base_uri": "https://localhost:8080/",
          "height": 34
        }
      },
      "source": [
        "rows, cols = np.where(titanic == None)\n",
        "print(str(len(np.unique(rows)))+\" \"+str(len(np.unique(cols))))"
      ],
      "execution_count": 0,
      "outputs": [
        {
          "output_type": "stream",
          "text": [
            "0 0\n"
          ],
          "name": "stdout"
        }
      ]
    },
    {
      "cell_type": "code",
      "metadata": {
        "id": "NpvLgz-2QCC1",
        "colab_type": "code",
        "outputId": "2ca52bc3-ab83-4b12-8124-e11a8258d512",
        "colab": {
          "base_uri": "https://localhost:8080/",
          "height": 34
        }
      },
      "source": [
        "rows, cols = np.where(titanic == '')\n",
        "print(str(len(np.unique(rows)))+\" \"+str(len(np.unique(cols))))"
      ],
      "execution_count": 0,
      "outputs": [
        {
          "output_type": "stream",
          "text": [
            "263 1\n"
          ],
          "name": "stdout"
        }
      ]
    },
    {
      "cell_type": "code",
      "metadata": {
        "id": "qbb6CfClQGMz",
        "colab_type": "code",
        "outputId": "295408c3-d050-4dcc-c509-af4fab9cd834",
        "colab": {
          "base_uri": "https://localhost:8080/",
          "height": 34
        }
      },
      "source": [
        "np.unique(cols)"
      ],
      "execution_count": 0,
      "outputs": [
        {
          "output_type": "execute_result",
          "data": {
            "text/plain": [
              "array([2])"
            ]
          },
          "metadata": {
            "tags": []
          },
          "execution_count": 226
        }
      ]
    },
    {
      "cell_type": "code",
      "metadata": {
        "id": "8Eb7hqDDNqIk",
        "colab_type": "code",
        "outputId": "5ced4a6d-21b0-45ff-c390-663c556ab18d",
        "colab": {
          "base_uri": "https://localhost:8080/",
          "height": 34
        }
      },
      "source": [
        "titanic = np.delete(titanic,2,1)\n",
        "titanic[0,:]"
      ],
      "execution_count": 0,
      "outputs": [
        {
          "output_type": "execute_result",
          "data": {
            "text/plain": [
              "array(['First', 'Female', '0', '0', 'Yes'], dtype='<U82')"
            ]
          },
          "metadata": {
            "tags": []
          },
          "execution_count": 227
        }
      ]
    },
    {
      "cell_type": "markdown",
      "metadata": {
        "id": "424texriBNc7",
        "colab_type": "text"
      },
      "source": [
        "##Exploration\n"
      ]
    },
    {
      "cell_type": "code",
      "metadata": {
        "id": "qQeXGnvIBhHb",
        "colab_type": "code",
        "outputId": "5a7ce88f-ae9d-4f2a-dcab-de988cca759e",
        "colab": {
          "base_uri": "https://localhost:8080/",
          "height": 34
        }
      },
      "source": [
        "passenger_class = np.unique(titanic[:,0])\n",
        "passenger_class"
      ],
      "execution_count": 0,
      "outputs": [
        {
          "output_type": "execute_result",
          "data": {
            "text/plain": [
              "array(['First', 'Second', 'Third'], dtype='<U82')"
            ]
          },
          "metadata": {
            "tags": []
          },
          "execution_count": 228
        }
      ]
    },
    {
      "cell_type": "code",
      "metadata": {
        "id": "q02d2hFdC9Gj",
        "colab_type": "code",
        "outputId": "45d5d05f-e74d-4493-e66d-a9121227aaa4",
        "colab": {
          "base_uri": "https://localhost:8080/",
          "height": 34
        }
      },
      "source": [
        "passenger_class_value=[sum(titanic[:,0]==passenger_class[0]),\n",
        "                      sum(titanic[:,0]==passenger_class[1]),\n",
        "                      sum(titanic[:,0]==passenger_class[2])]\n",
        "passenger_class_value"
      ],
      "execution_count": 0,
      "outputs": [
        {
          "output_type": "execute_result",
          "data": {
            "text/plain": [
              "[323, 277, 709]"
            ]
          },
          "metadata": {
            "tags": []
          },
          "execution_count": 229
        }
      ]
    },
    {
      "cell_type": "code",
      "metadata": {
        "id": "bP3fcTKaDT90",
        "colab_type": "code",
        "outputId": "be43324a-dc1b-443b-d5d0-1f347ca38ecc",
        "colab": {
          "base_uri": "https://localhost:8080/",
          "height": 286
        }
      },
      "source": [
        "plt.bar(passenger_class,passenger_class_value)"
      ],
      "execution_count": 0,
      "outputs": [
        {
          "output_type": "execute_result",
          "data": {
            "text/plain": [
              "<BarContainer object of 3 artists>"
            ]
          },
          "metadata": {
            "tags": []
          },
          "execution_count": 230
        },
        {
          "output_type": "display_data",
          "data": {
            "image/png": "[encoded data removed]",
            "text/plain": [
              "<Figure size 432x288 with 1 Axes>"
            ]
          },
          "metadata": {
            "tags": []
          }
        }
      ]
    },
    {
      "cell_type": "markdown",
      "metadata": {
        "id": "B54cVMaoG8t9",
        "colab_type": "text"
      },
      "source": [
        "#EX6"
      ]
    },
    {
      "cell_type": "code",
      "metadata": {
        "id": "YJ_1OpCcEe2U",
        "colab_type": "code",
        "outputId": "a771c7a1-6b0a-4bb8-83df-034d956cbbd0",
        "colab": {
          "base_uri": "https://localhost:8080/",
          "height": 34
        }
      },
      "source": [
        "passenger_male = np.unique(titanic[:,1])\n",
        "passenger_male"
      ],
      "execution_count": 0,
      "outputs": [
        {
          "output_type": "execute_result",
          "data": {
            "text/plain": [
              "array(['Female', 'Male'], dtype='<U82')"
            ]
          },
          "metadata": {
            "tags": []
          },
          "execution_count": 231
        }
      ]
    },
    {
      "cell_type": "code",
      "metadata": {
        "id": "fUeb6g-3FkDM",
        "colab_type": "code",
        "outputId": "308069af-cc9a-44e7-c9e2-9af7527cc023",
        "colab": {
          "base_uri": "https://localhost:8080/",
          "height": 34
        }
      },
      "source": [
        "passenger_male_value=[sum(titanic[:,1]==passenger_male[0]),\n",
        "                      sum(titanic[:,1]==passenger_male[1])]\n",
        "passenger_male_value"
      ],
      "execution_count": 0,
      "outputs": [
        {
          "output_type": "execute_result",
          "data": {
            "text/plain": [
              "[466, 843]"
            ]
          },
          "metadata": {
            "tags": []
          },
          "execution_count": 232
        }
      ]
    },
    {
      "cell_type": "code",
      "metadata": {
        "id": "gSxOWWyaF1zU",
        "colab_type": "code",
        "outputId": "2cfa3645-835d-4f6b-9bc2-c9a96d8b57f4",
        "colab": {
          "base_uri": "https://localhost:8080/",
          "height": 34
        }
      },
      "source": [
        "passenger_survived = np.unique(titanic[:,4])\n",
        "passenger_survived"
      ],
      "execution_count": 0,
      "outputs": [
        {
          "output_type": "execute_result",
          "data": {
            "text/plain": [
              "array(['No', 'Yes'], dtype='<U82')"
            ]
          },
          "metadata": {
            "tags": []
          },
          "execution_count": 233
        }
      ]
    },
    {
      "cell_type": "code",
      "metadata": {
        "id": "pSflj1dZGRTL",
        "colab_type": "code",
        "outputId": "0fd5b886-eb99-4d94-e041-403c9c0ea19b",
        "colab": {
          "base_uri": "https://localhost:8080/",
          "height": 34
        }
      },
      "source": [
        "passenger_survived_value=[sum(titanic[:,4]==passenger_survived[0]),\n",
        "                      sum(titanic[:,4]==passenger_survived[1])]\n",
        "passenger_survived_value"
      ],
      "execution_count": 0,
      "outputs": [
        {
          "output_type": "execute_result",
          "data": {
            "text/plain": [
              "[809, 500]"
            ]
          },
          "metadata": {
            "tags": []
          },
          "execution_count": 234
        }
      ]
    },
    {
      "cell_type": "code",
      "metadata": {
        "id": "xlGS1E0oE_In",
        "colab_type": "code",
        "outputId": "58cc47ff-2a94-4346-b9f9-69c063071b10",
        "colab": {
          "base_uri": "https://localhost:8080/",
          "height": 286
        }
      },
      "source": [
        "plt.bar(passenger_male,passenger_male_value)\n"
      ],
      "execution_count": 0,
      "outputs": [
        {
          "output_type": "execute_result",
          "data": {
            "text/plain": [
              "<BarContainer object of 2 artists>"
            ]
          },
          "metadata": {
            "tags": []
          },
          "execution_count": 235
        },
        {
          "output_type": "display_data",
          "data": {
            "image/png": "[encoded data removed]",
            "text/plain": [
              "<Figure size 432x288 with 1 Axes>"
            ]
          },
          "metadata": {
            "tags": []
          }
        }
      ]
    },
    {
      "cell_type": "code",
      "metadata": {
        "id": "z_psoluWIEU-",
        "colab_type": "code",
        "outputId": "7a32b3ee-0d12-4e47-96d3-e7571711c028",
        "colab": {
          "base_uri": "https://localhost:8080/",
          "height": 286
        }
      },
      "source": [
        "plt.bar(passenger_survived,passenger_survived_value)"
      ],
      "execution_count": 0,
      "outputs": [
        {
          "output_type": "execute_result",
          "data": {
            "text/plain": [
              "<BarContainer object of 2 artists>"
            ]
          },
          "metadata": {
            "tags": []
          },
          "execution_count": 236
        },
        {
          "output_type": "display_data",
          "data": {
            "image/png": "[encoded data removed]",
            "text/plain": [
              "<Figure size 432x288 with 1 Axes>"
            ]
          },
          "metadata": {
            "tags": []
          }
        }
      ]
    },
    {
      "cell_type": "code",
      "metadata": {
        "id": "TbgGsCIsKXnG",
        "colab_type": "code",
        "outputId": "16dc4b4c-f70f-4e8d-c3c9-c6960fd4488a",
        "colab": {
          "base_uri": "https://localhost:8080/",
          "height": 269
        }
      },
      "source": [
        "import matplotlib.pyplot as plt\n",
        "fig, axes = plt.subplots(1,2)\n",
        "axes[0].bar(passenger_male,passenger_male_value)\n",
        "axes[1].bar(passenger_survived,passenger_survived_value)\n",
        "plt.show()"
      ],
      "execution_count": 0,
      "outputs": [
        {
          "output_type": "display_data",
          "data": {
            "image/png": "[encoded data removed]",
            "text/plain": [
              "<Figure size 432x288 with 2 Axes>"
            ]
          },
          "metadata": {
            "tags": []
          }
        }
      ]
    },
    {
      "cell_type": "markdown",
      "metadata": {
        "id": "jj-jePLFG_eq",
        "colab_type": "text"
      },
      "source": [
        "#EX7"
      ]
    },
    {
      "cell_type": "code",
      "metadata": {
        "id": "E9wJK2o-G_F2",
        "colab_type": "code",
        "outputId": "bb177411-dbfd-40cb-a33a-75e2b5c9faf2",
        "colab": {
          "base_uri": "https://localhost:8080/",
          "height": 136
        }
      },
      "source": [
        "titanic[titanic == passenger_class[0]] = 0\n",
        "titanic[titanic == passenger_class[1]] = 1\n",
        "titanic[titanic == passenger_class[2]] = 2\n",
        "titanic[titanic == passenger_male[0]] = 0\n",
        "titanic[titanic == passenger_male[1]] = 1\n",
        "titanic[titanic == passenger_survived[0]] = 0\n",
        "titanic[titanic == passenger_survived[1]] = 1\n",
        "titanic"
      ],
      "execution_count": 0,
      "outputs": [
        {
          "output_type": "execute_result",
          "data": {
            "text/plain": [
              "array([['0', '0', '0', '0', '1'],\n",
              "       ['0', '1', '1', '2', '1'],\n",
              "       ['0', '0', '1', '2', '0'],\n",
              "       ...,\n",
              "       ['2', '1', '0', '0', '0'],\n",
              "       ['2', '1', '0', '0', '0'],\n",
              "       ['2', '1', '0', '0', '0']], dtype='<U82')"
            ]
          },
          "metadata": {
            "tags": []
          },
          "execution_count": 238
        }
      ]
    },
    {
      "cell_type": "code",
      "metadata": {
        "id": "0Umw2GlGRB8q",
        "colab_type": "code",
        "outputId": "72175680-8416-4a50-d3a2-1377f9516758",
        "colab": {
          "base_uri": "https://localhost:8080/",
          "height": 34
        }
      },
      "source": [
        "titanic = titanic.astype('float')\n",
        "titanic.dtype"
      ],
      "execution_count": 0,
      "outputs": [
        {
          "output_type": "execute_result",
          "data": {
            "text/plain": [
              "dtype('float64')"
            ]
          },
          "metadata": {
            "tags": []
          },
          "execution_count": 239
        }
      ]
    },
    {
      "cell_type": "code",
      "metadata": {
        "id": "sOS1E4lwRyVN",
        "colab_type": "code",
        "outputId": "f4df6494-7446-4256-e75d-eb264e4cb3c8",
        "colab": {
          "base_uri": "https://localhost:8080/",
          "height": 34
        }
      },
      "source": [
        "y = titanic[:,1]\n",
        "x = np.delete(titanic,-1,1)\n",
        "x.shape"
      ],
      "execution_count": 0,
      "outputs": [
        {
          "output_type": "execute_result",
          "data": {
            "text/plain": [
              "(1309, 4)"
            ]
          },
          "metadata": {
            "tags": []
          },
          "execution_count": 240
        }
      ]
    }
  ]
}